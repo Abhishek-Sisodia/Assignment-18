{
 "cells": [
  {
   "cell_type": "code",
   "execution_count": 1,
   "id": "0c07960b-0026-4679-8be8-dd78d000a390",
   "metadata": {},
   "outputs": [],
   "source": [
    "#Q1. What is Flask Framework? What are the advantages of Flask Framework?\n",
    "#Flask is a popular web framework for building web applications using Python. It is a lightweight and modular framework that \n",
    "#is easy to use and provides flexibility for developers. Some of the advantages of using Flask are:\n",
    "\n",
    "#Lightweight: Flask is a lightweight framework that does not come with any pre-built components, allowing developers to choose\n",
    "#the components they need and avoiding any unnecessary bloat in their application.\n",
    "\n",
    "#Easy to use: Flask is easy to learn and use, making it an excellent choice for beginners. It also has a simple and intuitive \n",
    "#API that allows developers to quickly build web applications.\n",
    "\n",
    "#Flexible: Flask allows developers to customize and extend the framework according to their needs. It does not impose any \n",
    "#specific architecture or directory structure, giving developers more freedom in building their applications.\n",
    "\n",
    "#Built-in development server: Flask comes with a built-in development server, making it easy to test and debug applications \n",
    "#without the need for additional tools.\n",
    "\n",
    "#Large community: Flask has a large community of developers who contribute to the framework's development and provide support\n",
    "#to other developers. This community provides a wealth of resources, such as plugins, extensions, and documentation, that can\n",
    "#help developers to build applications more quickly and efficiently.\n",
    "\n",
    "#Overall, Flask is a powerful framework that is easy to use, flexible, and customizable. It is an excellent choice for building\n",
    "#web applications, particularly for smaller projects or prototypes."
   ]
  },
  {
   "cell_type": "code",
   "execution_count": 2,
   "id": "3e89755f-d15e-4492-a95b-2a3e5b82b485",
   "metadata": {},
   "outputs": [],
   "source": [
    "#Q2. Create a simple Flask application to display ‘Hello World!!’. Attach the screenshot of the output in Jupyter Notebook."
   ]
  },
  {
   "cell_type": "code",
   "execution_count": 4,
   "id": "038329c7-2fab-4aa8-854c-86bf2a678436",
   "metadata": {},
   "outputs": [
    {
     "ename": "ModuleNotFoundError",
     "evalue": "No module named 'flask'",
     "output_type": "error",
     "traceback": [
      "\u001b[0;31m---------------------------------------------------------------------------\u001b[0m",
      "\u001b[0;31mModuleNotFoundError\u001b[0m                       Traceback (most recent call last)",
      "Cell \u001b[0;32mIn[4], line 1\u001b[0m\n\u001b[0;32m----> 1\u001b[0m \u001b[38;5;28;01mfrom\u001b[39;00m \u001b[38;5;21;01mflask\u001b[39;00m \u001b[38;5;28;01mimport\u001b[39;00m Flask\n\u001b[1;32m      3\u001b[0m app \u001b[38;5;241m=\u001b[39m Flask(\u001b[38;5;18m__name__\u001b[39m)\n\u001b[1;32m      5\u001b[0m \u001b[38;5;129m@app\u001b[39m\u001b[38;5;241m.\u001b[39mroute(\u001b[38;5;124m\"\u001b[39m\u001b[38;5;124m/\u001b[39m\u001b[38;5;124m\"\u001b[39m)\n\u001b[1;32m      6\u001b[0m \u001b[38;5;28;01mdef\u001b[39;00m \u001b[38;5;21mhello_world\u001b[39m():\n",
      "\u001b[0;31mModuleNotFoundError\u001b[0m: No module named 'flask'"
     ]
    }
   ],
   "source": [
    "from flask import Flask\n",
    "\n",
    "app = Flask(__name__)\n",
    "\n",
    "@app.route(\"/\")\n",
    "def hello_world():\n",
    "    return '<h1>Hello World!!</h1>'\n",
    "\n",
    "if __name__==\"__main__\":\n",
    "    app.run(host=\"0.0.0.0\")"
   ]
  },
  {
   "cell_type": "code",
   "execution_count": 5,
   "id": "e24964ad-12d3-4e88-b196-a2137dadd662",
   "metadata": {},
   "outputs": [],
   "source": [
    "#Q3. What is App routing in Flask? Why do we use app routes?\n",
    "#App routing in Flask refers to the process of mapping URLs to functions in a Flask application. When a user makes a request\n",
    "#to a URL in a Flask application, Flask uses the app routing mechanism to determine which function should be executed to handle\n",
    "#the request.\n",
    "\n",
    "#App routes are essential in Flask because they enable developers to create multiple pages or endpoints for their web application.\n",
    "#Each app route defines a unique URL, and when a user visits that URL, Flask calls the function that is associated with the\n",
    "#route to generate the HTML content to be displayed on the page.\n",
    "\n",
    "#For example, consider a Flask application that has two pages, one to display a login form and another to display the user's \n",
    "#profile information. In this case, the login page might have the URL '/login', and the profile page might have the URL '/profile'.\n",
    "#By using app routes, the developer can define functions that will handle requests made to these URLs, making it easy to manage\n",
    "#the logic for each page in a separate function.\n",
    "\n",
    "#App routes can also be used to define dynamic URLs that can accept parameters, such as user IDs or product names. By using \n",
    "#dynamic routes, a developer can create a single function to handle requests to multiple URLs, reducing the amount of duplicated\n",
    "#code and making the application more maintainable.\n",
    "\n",
    "#Overall, app routing is a crucial part of building web applications in Flask, as it enables developers to create flexible and \n",
    "#dynamic web applications that can handle multiple URLs and serve content tailored to the user's request."
   ]
  },
  {
   "cell_type": "code",
   "execution_count": 6,
   "id": "ae1b7648-03b8-4fa8-aa6e-ee2c5fc9c93e",
   "metadata": {},
   "outputs": [],
   "source": [
    "#Q4. Create a “/welcome” route to display the welcome message “Welcome to ABC Corporation” and a “/” route to show the following details:\n",
    "#Company Name: ABC Corporation\n",
    "#Location: India\n",
    "#Contact Detail: 999-999-9999"
   ]
  },
  {
   "cell_type": "code",
   "execution_count": 9,
   "id": "e4f0d8fe-cf21-49cd-b9a2-44da5918e1d0",
   "metadata": {},
   "outputs": [
    {
     "ename": "ModuleNotFoundError",
     "evalue": "No module named 'flask'",
     "output_type": "error",
     "traceback": [
      "\u001b[0;31m---------------------------------------------------------------------------\u001b[0m",
      "\u001b[0;31mModuleNotFoundError\u001b[0m                       Traceback (most recent call last)",
      "Cell \u001b[0;32mIn[9], line 1\u001b[0m\n\u001b[0;32m----> 1\u001b[0m \u001b[38;5;28;01mfrom\u001b[39;00m \u001b[38;5;21;01mflask\u001b[39;00m \u001b[38;5;28;01mimport\u001b[39;00m Flask\n\u001b[1;32m      3\u001b[0m app \u001b[38;5;241m=\u001b[39m Flask(\u001b[38;5;18m__name__\u001b[39m)\n\u001b[1;32m      5\u001b[0m \u001b[38;5;129m@app\u001b[39m\u001b[38;5;241m.\u001b[39mroute(\u001b[38;5;124m\"\u001b[39m\u001b[38;5;124m/\u001b[39m\u001b[38;5;124m\"\u001b[39m)\n\u001b[1;32m      6\u001b[0m \u001b[38;5;28;01mdef\u001b[39;00m \u001b[38;5;21mcompany_details\u001b[39m():\n",
      "\u001b[0;31mModuleNotFoundError\u001b[0m: No module named 'flask'"
     ]
    }
   ],
   "source": [
    "from flask import Flask\n",
    "\n",
    "app = Flask(__name__)\n",
    "\n",
    "@app.route(\"/\")\n",
    "def company_details():\n",
    "    return \"<h2>Company Name: ABC Corporation</h2><br><h2>Location: India</h2><br><h2>Contact Detail: 999-999-9999</h2>\"\n",
    "\n",
    "@app.route(\"/welcome\")\n",
    "def welcome_message():\n",
    "    return \"<h1>Welcome to ABC Corporation</h1>\"\n",
    "\n",
    "if __name__ == \"__main__\":\n",
    "    app.run(host = \"0.0.0.0\")"
   ]
  },
  {
   "cell_type": "code",
   "execution_count": 10,
   "id": "f95fc120-5b75-4861-9532-96bb89e67cb6",
   "metadata": {},
   "outputs": [
    {
     "ename": "ModuleNotFoundError",
     "evalue": "No module named 'flask'",
     "output_type": "error",
     "traceback": [
      "\u001b[0;31m---------------------------------------------------------------------------\u001b[0m",
      "\u001b[0;31mModuleNotFoundError\u001b[0m                       Traceback (most recent call last)",
      "Cell \u001b[0;32mIn[10], line 9\u001b[0m\n\u001b[1;32m      1\u001b[0m \u001b[38;5;66;03m#Q5. What function is used in Flask for URL Building? Write a Python code to demonstrate the working of the url_for() function.\u001b[39;00m\n\u001b[1;32m      2\u001b[0m \n\u001b[1;32m      3\u001b[0m \u001b[38;5;66;03m#In Flask, the url_for() function is used for URL building. This function takes the endpoint name and any arguments and returns\u001b[39;00m\n\u001b[0;32m   (...)\u001b[0m\n\u001b[1;32m      6\u001b[0m \n\u001b[1;32m      7\u001b[0m \u001b[38;5;66;03m#Here's an example of how to use the url_for() function in Flask:\u001b[39;00m\n\u001b[0;32m----> 9\u001b[0m \u001b[38;5;28;01mfrom\u001b[39;00m \u001b[38;5;21;01mflask\u001b[39;00m \u001b[38;5;28;01mimport\u001b[39;00m Flask, url_for\n\u001b[1;32m     11\u001b[0m app \u001b[38;5;241m=\u001b[39m Flask(\u001b[38;5;18m__name__\u001b[39m)\n\u001b[1;32m     13\u001b[0m \u001b[38;5;129m@app\u001b[39m\u001b[38;5;241m.\u001b[39mroute(\u001b[38;5;124m'\u001b[39m\u001b[38;5;124m/\u001b[39m\u001b[38;5;124m'\u001b[39m)\n\u001b[1;32m     14\u001b[0m \u001b[38;5;28;01mdef\u001b[39;00m \u001b[38;5;21mindex\u001b[39m():\n",
      "\u001b[0;31mModuleNotFoundError\u001b[0m: No module named 'flask'"
     ]
    }
   ],
   "source": [
    "#Q5. What function is used in Flask for URL Building? Write a Python code to demonstrate the working of the url_for() function.\n",
    "\n",
    "#In Flask, the url_for() function is used for URL building. This function takes the endpoint name and any arguments and returns\n",
    "#a URL to that endpoint. The url_for() function is useful because it generates URLs based on the routes defined in the application,\n",
    "#which ensures that the URLs are consistent and will continue to work even if the URL scheme changes.\n",
    "\n",
    "#Here's an example of how to use the url_for() function in Flask:\n",
    "\n",
    "from flask import Flask, url_for\n",
    "\n",
    "app = Flask(__name__)\n",
    "\n",
    "@app.route('/')\n",
    "def index():\n",
    "    return 'This is the homepage.'\n",
    "\n",
    "@app.route('/user/<username>')\n",
    "def profile(username):\n",
    "    return f'This is the profile page for {username}.'\n",
    "\n",
    "@app.route('/login')\n",
    "def login():\n",
    "    return 'Please log in.'\n",
    "\n",
    "with app.test_request_context():\n",
    "    print(url_for('index'))  # output: '/'\n",
    "    print(url_for('login'))  # output: '/login'\n",
    "    print(url_for('login', next='/'))  # output: '/login?next=%2F'\n",
    "    print(url_for('profile', username='Alice'))  # output: '/user/Alice'"
   ]
  },
  {
   "cell_type": "code",
   "execution_count": null,
   "id": "a792dd2e-df0b-4e8d-a83d-2b5df3717611",
   "metadata": {},
   "outputs": [],
   "source": []
  }
 ],
 "metadata": {
  "kernelspec": {
   "display_name": "Python 3 (ipykernel)",
   "language": "python",
   "name": "python3"
  },
  "language_info": {
   "codemirror_mode": {
    "name": "ipython",
    "version": 3
   },
   "file_extension": ".py",
   "mimetype": "text/x-python",
   "name": "python",
   "nbconvert_exporter": "python",
   "pygments_lexer": "ipython3",
   "version": "3.10.8"
  }
 },
 "nbformat": 4,
 "nbformat_minor": 5
}
